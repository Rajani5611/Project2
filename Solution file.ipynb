{
 "cells": [
  {
   "cell_type": "code",
   "execution_count": 3,
   "id": "30bb3a27",
   "metadata": {},
   "outputs": [],
   "source": [
    "##1.\tGo step by step:\n",
    "#A.\tCreate a class named (Car)\n",
    "#B.\tCall constructor\n",
    "#C.\tCreate 3 attributes under that (name, price, colour)\n",
    "#D.\tCreate 3 functions - 1. sound 2. speed 3. display (to display 1 and 2 fuctions)\n",
    "#E.\tCreate a child class named (Thar) and inherite Car\n",
    "#F.\tCreate two objects under that child class and access the functions for them.\n"
   ]
  },
  {
   "cell_type": "code",
   "execution_count": 2,
   "id": "fdfaae65",
   "metadata": {},
   "outputs": [
    {
     "name": "stdout",
     "output_type": "stream",
     "text": [
      "Car Name = thar\n",
      "Car price = 50000000\n",
      "Car color = red\n",
      "Horn Sound...SSS\n",
      "Accelerating...\n",
      "Car model = 2023\n"
     ]
    }
   ],
   "source": [
    "class Car:\n",
    "    def __init__(self,name,price,color):\n",
    "        self.name=name\n",
    "        self.price=price\n",
    "        self.color=color\n",
    "        print(\"Car Name =\",self.name)\n",
    "        print(\"Car price =\",self.price)\n",
    "        print(\"Car color =\",self.color)\n",
    "    def sound(self):\n",
    "        print(\"Horn Sound...SSS\")\n",
    "    def speed(self):\n",
    "        print(\"Accelerating...\")\n",
    "    def display(self):\n",
    "        self.sound()\n",
    "        self.speed()\n",
    "class Thar(Car):\n",
    "    def __init__(self,name,price,color,model):\n",
    "        super().__init__(name,price,color)\n",
    "        self.model=model\n",
    "    def tharDisplay(self):\n",
    "        super().display()\n",
    "        print(\"Car model =\",self.model)\n",
    "t1=Thar(\"thar\",50000000,\"red\",2023)\n",
    "t1.tharDisplay()"
   ]
  },
  {
   "cell_type": "code",
   "execution_count": 4,
   "id": "5dcb21fe",
   "metadata": {},
   "outputs": [],
   "source": [
    "##Problem: Try and Except\n",
    "##Create an Except where we can catch all the “zero division error” (you can customize your print statements ).\n"
   ]
  },
  {
   "cell_type": "code",
   "execution_count": 6,
   "id": "6868ac67",
   "metadata": {},
   "outputs": [
    {
     "name": "stdout",
     "output_type": "stream",
     "text": [
      "enter first number: 98\n",
      "enter second number: 0\n",
      "Error:Can't divide by zero...\n"
     ]
    }
   ],
   "source": [
    "A=int (input('enter first number: '))\n",
    "B=int (input('enter second number: '))\n",
    "\n",
    "try:\n",
    "    Ans=A/B\n",
    "    print(\"Ans= \",Ans)\n",
    "except ZeroDivisionError:\n",
    "    print(\"Error:Can't divide by zero...\")"
   ]
  },
  {
   "cell_type": "code",
   "execution_count": null,
   "id": "f44fe3c1",
   "metadata": {},
   "outputs": [],
   "source": []
  },
  {
   "cell_type": "code",
   "execution_count": null,
   "id": "5af4e8f3",
   "metadata": {},
   "outputs": [],
   "source": []
  }
 ],
 "metadata": {
  "kernelspec": {
   "display_name": "Python 3 (ipykernel)",
   "language": "python",
   "name": "python3"
  },
  "language_info": {
   "codemirror_mode": {
    "name": "ipython",
    "version": 3
   },
   "file_extension": ".py",
   "mimetype": "text/x-python",
   "name": "python",
   "nbconvert_exporter": "python",
   "pygments_lexer": "ipython3",
   "version": "3.10.9"
  }
 },
 "nbformat": 4,
 "nbformat_minor": 5
}
